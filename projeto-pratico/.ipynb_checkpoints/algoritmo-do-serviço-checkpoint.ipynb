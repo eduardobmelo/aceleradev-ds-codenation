{
 "cells": [
  {
   "cell_type": "markdown",
   "metadata": {},
   "source": [
    "## Objetivo"
   ]
  },
  {
   "cell_type": "markdown",
   "metadata": {},
   "source": [
    "O objetivo deste produto é fornecer um serviço automatizado que recomenda leads para um usuário dado sua atual lista de clientes (Portfólio)."
   ]
  },
  {
   "cell_type": "markdown",
   "metadata": {},
   "source": [
    "## Contextualização"
   ]
  },
  {
   "cell_type": "markdown",
   "metadata": {},
   "source": [
    "Algumas empresas gostariam de saber quem são as demais empresas em um determinado mercado (população) que tem maior probabilidade se tornarem seus próximos clientes. Ou seja, a sua solução deve encontrar no mercado quem são os leads mais aderentes dado as características dos clientes presentes no portfólio do usuário.\n",
    "\n",
    "Além disso, sua solução deve ser agnóstica ao usuário. Qualquer usuário com uma lista de clientes que queira explorar esse mercado pode extrair valor do serviço.\n",
    "\n",
    "Para o desafio, deverão ser consideradas as seguintes bases:\n",
    "\n",
    "Mercado: Base com informações sobre as empresas do Mercado a ser considerado. Portfolio 1: Ids dos clientes da empresa 1 Portfolio 2: Ids dos clientes da empresa 2 Portfolio 3: Ids dos clientes da empresa 3\n",
    "\n",
    "Obs: todas as empresas(ids) dos portfolios estão contidos no Mercado(base de população)."
   ]
  },
  {
   "cell_type": "markdown",
   "metadata": {},
   "source": [
    "### Importando bibliotecas"
   ]
  },
  {
   "cell_type": "code",
   "execution_count": 34,
   "metadata": {},
   "outputs": [],
   "source": [
    "import pandas as pd\n",
    "import numpy as np\n",
    "from sklearn.preprocessing import LabelBinarizer, StandardScaler\n",
    "from sklearn.linear_model import LogisticRegression\n",
    "from sklearn.neighbors import KNeighborsClassifier\n",
    "from sklearn.svm import SVC\n",
    "from sklearn.naive_bayes import GaussianNB\n",
    "from sklearn.tree import DecisionTreeClassifier\n",
    "from sklearn.ensemble import RandomForestClassifier\n",
    "from sklearn.model_selection import train_test_split\n",
    "from datetime import datetime\n",
    "from math import sqrt\n",
    "import category_encoders as ce"
   ]
  },
  {
   "cell_type": "code",
   "execution_count": 2,
   "metadata": {},
   "outputs": [],
   "source": [
    "import warnings \n",
    "warnings.filterwarnings(\"ignore\")"
   ]
  },
  {
   "cell_type": "markdown",
   "metadata": {},
   "source": [
    "#### Carregando os dados"
   ]
  },
  {
   "cell_type": "code",
   "execution_count": 3,
   "metadata": {},
   "outputs": [],
   "source": [
    "market = pd.read_csv('data/estaticos_market.csv',delimiter=',',index_col=0)\n",
    "portfolio1 = pd.read_csv('data/estaticos_portfolio1.csv',delimiter=',',index_col=0)\n",
    "portfolio2 = pd.read_csv('data/estaticos_portfolio2.csv',delimiter=',',index_col=0)\n",
    "portfolio3 = pd.read_csv('data/estaticos_portfolio3.csv',delimiter=',',index_col=0)"
   ]
  },
  {
   "cell_type": "markdown",
   "metadata": {},
   "source": [
    "## Analise exploratória"
   ]
  },
  {
   "cell_type": "markdown",
   "metadata": {},
   "source": [
    "Uma boa prática recomendada por alguns autores é utilizar colunas com pelo menos 90% de dados prenchidos para uso no processo de aprendizado do modelo."
   ]
  },
  {
   "cell_type": "code",
   "execution_count": 4,
   "metadata": {},
   "outputs": [],
   "source": [
    "colunas = market.dropna(thresh=int(market.shape[0] * .9), axis=1).columns"
   ]
  },
  {
   "cell_type": "code",
   "execution_count": 5,
   "metadata": {},
   "outputs": [],
   "source": [
    "mercado = market[colunas]"
   ]
  },
  {
   "cell_type": "code",
   "execution_count": 6,
   "metadata": {},
   "outputs": [
    {
     "name": "stdout",
     "output_type": "stream",
     "text": [
      "<class 'pandas.core.frame.DataFrame'>\n",
      "Int64Index: 462298 entries, 0 to 462297\n",
      "Data columns (total 38 columns):\n",
      "id                                     462298 non-null object\n",
      "fl_matriz                              462298 non-null bool\n",
      "de_natureza_juridica                   462298 non-null object\n",
      "sg_uf                                  462298 non-null object\n",
      "natureza_juridica_macro                462298 non-null object\n",
      "de_ramo                                462298 non-null object\n",
      "setor                                  460371 non-null object\n",
      "idade_empresa_anos                     462298 non-null float64\n",
      "idade_emp_cat                          462298 non-null object\n",
      "fl_me                                  462298 non-null bool\n",
      "fl_sa                                  462298 non-null bool\n",
      "fl_epp                                 462298 non-null bool\n",
      "fl_mei                                 462298 non-null bool\n",
      "fl_ltda                                462298 non-null bool\n",
      "dt_situacao                            462292 non-null object\n",
      "fl_st_especial                         462298 non-null bool\n",
      "fl_email                               462298 non-null bool\n",
      "fl_telefone                            462298 non-null bool\n",
      "fl_rm                                  462298 non-null object\n",
      "nm_divisao                             460371 non-null object\n",
      "nm_segmento                            460371 non-null object\n",
      "fl_spa                                 460371 non-null object\n",
      "fl_antt                                460371 non-null object\n",
      "fl_veiculo                             460371 non-null object\n",
      "vl_total_veiculos_pesados_grupo        460371 non-null float64\n",
      "vl_total_veiculos_leves_grupo          460371 non-null float64\n",
      "sg_uf_matriz                           460359 non-null object\n",
      "de_saude_tributaria                    447447 non-null object\n",
      "de_saude_rescencia                     447447 non-null object\n",
      "nu_meses_rescencia                     417022 non-null float64\n",
      "de_nivel_atividade                     451130 non-null object\n",
      "fl_simples_irregular                   460371 non-null object\n",
      "fl_passivel_iss                        460371 non-null object\n",
      "de_faixa_faturamento_estimado          434785 non-null object\n",
      "de_faixa_faturamento_estimado_grupo    434785 non-null object\n",
      "vl_faturamento_estimado_aux            434785 non-null float64\n",
      "vl_faturamento_estimado_grupo_aux      434785 non-null float64\n",
      "qt_filiais                             462298 non-null int64\n",
      "dtypes: bool(9), float64(6), int64(1), object(22)\n",
      "memory usage: 109.8+ MB\n"
     ]
    }
   ],
   "source": [
    "mercado.info()"
   ]
  },
  {
   "cell_type": "markdown",
   "metadata": {},
   "source": [
    "## Tratamento dos Dados"
   ]
  },
  {
   "cell_type": "markdown",
   "metadata": {},
   "source": [
    "A data de situação foi removida por entender que ela não contribuirá no processo de identificação dos novos clientes."
   ]
  },
  {
   "cell_type": "code",
   "execution_count": 9,
   "metadata": {},
   "outputs": [],
   "source": [
    "mercado.drop(['dt_situacao'], axis=1, inplace=True)"
   ]
  },
  {
   "cell_type": "markdown",
   "metadata": {},
   "source": [
    "Tratando os valores NaN."
   ]
  },
  {
   "cell_type": "code",
   "execution_count": 10,
   "metadata": {},
   "outputs": [],
   "source": [
    "mercado['fl_spa'] = mercado['fl_spa'].map({False:False,np.NaN:False,True:True})"
   ]
  },
  {
   "cell_type": "code",
   "execution_count": 11,
   "metadata": {},
   "outputs": [],
   "source": [
    "mercado['fl_antt'] = mercado['fl_antt'].map({False:False,'NaN':False,True:True})"
   ]
  },
  {
   "cell_type": "code",
   "execution_count": 12,
   "metadata": {},
   "outputs": [],
   "source": [
    "mercado['fl_veiculo'] = mercado['fl_veiculo'].map({False:False,'NaN':False,np.NaN:False,True:True})"
   ]
  },
  {
   "cell_type": "code",
   "execution_count": 13,
   "metadata": {},
   "outputs": [],
   "source": [
    "mercado['fl_simples_irregular'] = mercado['fl_simples_irregular'].map({False:False,'NaN':False,np.NaN:False,True:True})"
   ]
  },
  {
   "cell_type": "code",
   "execution_count": 14,
   "metadata": {},
   "outputs": [],
   "source": [
    "mercado['fl_passivel_iss'] = mercado['fl_passivel_iss'].map({False:False,'NaN':False,np.NaN:False,True:True})"
   ]
  },
  {
   "cell_type": "code",
   "execution_count": 15,
   "metadata": {},
   "outputs": [],
   "source": [
    "mercado['fl_antt'] = mercado['fl_antt'].map({False:False,'NaN':False,np.NaN:False,True:True})"
   ]
  },
  {
   "cell_type": "code",
   "execution_count": 16,
   "metadata": {},
   "outputs": [],
   "source": [
    "mercado['setor'] = mercado['setor'].fillna('NÃO INFORMADO')"
   ]
  },
  {
   "cell_type": "code",
   "execution_count": 17,
   "metadata": {},
   "outputs": [],
   "source": [
    "mercado['nm_divisao'] = mercado['nm_divisao'].fillna('NÃO INFORMADO')"
   ]
  },
  {
   "cell_type": "code",
   "execution_count": 18,
   "metadata": {},
   "outputs": [],
   "source": [
    "mercado['nm_segmento'] = mercado['nm_segmento'].fillna('NÃO INFORMADO')"
   ]
  },
  {
   "cell_type": "code",
   "execution_count": 19,
   "metadata": {},
   "outputs": [],
   "source": [
    "mercado['sg_uf_matriz'] = mercado['sg_uf_matriz'].fillna('NÃO INFORMADO')"
   ]
  },
  {
   "cell_type": "code",
   "execution_count": 20,
   "metadata": {},
   "outputs": [],
   "source": [
    "mercado['de_saude_tributaria'] = mercado['de_saude_tributaria'].fillna('NÃO INFORMADO')"
   ]
  },
  {
   "cell_type": "code",
   "execution_count": 21,
   "metadata": {},
   "outputs": [],
   "source": [
    "mercado['de_saude_rescencia'] = mercado['de_saude_rescencia'].fillna('SEM INFORMACAO')"
   ]
  },
  {
   "cell_type": "code",
   "execution_count": 22,
   "metadata": {},
   "outputs": [],
   "source": [
    "mercado['de_nivel_atividade'] = mercado['de_nivel_atividade'].fillna('SEM INFORMACAO')"
   ]
  },
  {
   "cell_type": "code",
   "execution_count": 23,
   "metadata": {},
   "outputs": [],
   "source": [
    "mercado['de_faixa_faturamento_estimado'] = mercado['de_faixa_faturamento_estimado'].fillna('SEM INFORMACAO')"
   ]
  },
  {
   "cell_type": "code",
   "execution_count": 24,
   "metadata": {},
   "outputs": [],
   "source": [
    "mercado['de_faixa_faturamento_estimado_grupo'] = mercado['de_faixa_faturamento_estimado_grupo'].fillna('SEM INFORMACAO')"
   ]
  },
  {
   "cell_type": "markdown",
   "metadata": {},
   "source": [
    "Colunas do tipo int e float com NaN serão preenchidas com 0"
   ]
  },
  {
   "cell_type": "code",
   "execution_count": 25,
   "metadata": {},
   "outputs": [],
   "source": [
    "for coluna in mercado:\n",
    "    if mercado[coluna].dtype in ['int64','float64']:\n",
    "        mercado[coluna] = mercado[coluna].fillna(0)"
   ]
  },
  {
   "cell_type": "markdown",
   "metadata": {},
   "source": [
    "Colunas do tipo object serão codificadas. Exceto o ID"
   ]
  },
  {
   "cell_type": "code",
   "execution_count": 26,
   "metadata": {},
   "outputs": [],
   "source": [
    "codificador = LabelBinarizer()\n",
    "for coluna in mercado.select_dtypes(include=['object']):\n",
    "    if coluna == 'id':\n",
    "        continue\n",
    "    \n",
    "    mercado[coluna] = codificador.fit_transform(mercado[coluna])"
   ]
  },
  {
   "cell_type": "markdown",
   "metadata": {},
   "source": [
    "Colunas do tipo bool transformada para 0 ou 1"
   ]
  },
  {
   "cell_type": "code",
   "execution_count": 27,
   "metadata": {},
   "outputs": [],
   "source": [
    "for coluna in mercado.select_dtypes(include=['bool']):\n",
    "    mercado[coluna] = mercado[coluna].astype(int)"
   ]
  },
  {
   "cell_type": "markdown",
   "metadata": {},
   "source": [
    "Dados de mercado dos clientes presentes nos portfolios 1, 2 e 3"
   ]
  },
  {
   "cell_type": "code",
   "execution_count": 28,
   "metadata": {},
   "outputs": [],
   "source": [
    "mercado_p1 = mercado[mercado['id'].isin(list(portfolio1['id']))]\n",
    "mercado_p2 = mercado[mercado['id'].isin(list(portfolio2['id']))]\n",
    "mercado_p3 = mercado[mercado['id'].isin(list(portfolio3['id']))]"
   ]
  },
  {
   "cell_type": "markdown",
   "metadata": {},
   "source": [
    "Adiciona nova coluna com ID do portfólio para uso futuro"
   ]
  },
  {
   "cell_type": "code",
   "execution_count": 29,
   "metadata": {},
   "outputs": [],
   "source": [
    "mercado_p1['portfolio'] = np.int(1)\n",
    "mercado_p2['portfolio'] = np.int(2)\n",
    "mercado_p3['portfolio'] = np.int(3)"
   ]
  },
  {
   "cell_type": "markdown",
   "metadata": {},
   "source": [
    "Monta um unico DataFrame com os dados do portfólios 1, 2 e 3"
   ]
  },
  {
   "cell_type": "code",
   "execution_count": 30,
   "metadata": {},
   "outputs": [],
   "source": [
    "frame = [mercado_p1,mercado_p2,mercado_p3]\n",
    "mercado_p123 = pd.concat(frame)\n",
    "mercado_sem_portifolio = mercado[~mercado['id'].isin(list(mercado_p123['id']))]"
   ]
  },
  {
   "cell_type": "markdown",
   "metadata": {},
   "source": [
    "Tornando o ID do cliente o indice"
   ]
  },
  {
   "cell_type": "code",
   "execution_count": 31,
   "metadata": {},
   "outputs": [],
   "source": [
    "mercado_p123 = mercado_p123.set_index(['id'])\n",
    "mercado_sem_portifolio = mercado_sem_portifolio.set_index(['id'])\n",
    "mercado_p1 = mercado_p1.set_index(['id'])\n",
    "mercado_p2 = mercado_p2.set_index(['id'])\n",
    "mercado_p3 = mercado_p3.set_index(['id'])"
   ]
  },
  {
   "cell_type": "markdown",
   "metadata": {},
   "source": [
    "## Avaliação de Algoritmos"
   ]
  },
  {
   "cell_type": "markdown",
   "metadata": {},
   "source": [
    "### Abordagem 1: uso de Algoritmo de Recomendação juntamente com a distância Euclideana."
   ]
  },
  {
   "cell_type": "markdown",
   "metadata": {},
   "source": [
    "Para um dado novo cliente, a função a seguir identifica o mais similar a partir dos clientes presentes nos portifolios (1, 2 e 3)."
   ]
  },
  {
   "cell_type": "code",
   "execution_count": 32,
   "metadata": {},
   "outputs": [],
   "source": [
    "def euclidiana(novo_cliente):\n",
    "    similar = {'id': np.NaN, 'distancia': np.NaN}\n",
    "    menor_distancia = np.NaN\n",
    "    indice_menor_distancia = np.NaN\n",
    "    \n",
    "    # Itera o DataFrame com os clientes dos portifolios (1, 2 e 3)\n",
    "    # para identificar o mais similar.\n",
    "    for indice, cliente in mercado_p123.iterrows():\n",
    "        parcial = 0\n",
    "        \n",
    "        # Itera todas as colunas do cliente e calcula a distancia Euclideana.\n",
    "        for item, valor in cliente.items():\n",
    "            if item != 'portfolio':\n",
    "                ponto_a = novo_cliente[item]\n",
    "                ponto_b = valor\n",
    "                parcial += pow((ponto_a - ponto_b), 2)\n",
    "        \n",
    "        # Distancia Euclideana.\n",
    "        distancia = round(sqrt(parcial),2)\n",
    "        \n",
    "        # Verifica se a distancia calculada é a menor até o momento.\n",
    "        if math.isnan(menor_distancia) or menor_distancia > distancia:\n",
    "            menor_distancia = distancia\n",
    "            indice_menor_distancia = indice\n",
    "    \n",
    "    similar['id'] = indice_menor_distancia\n",
    "    similar['distancia'] = menor_distancia\n",
    "    \n",
    "    return similar"
   ]
  },
  {
   "cell_type": "markdown",
   "metadata": {},
   "source": [
    "Analisando uma amostra de 1.000 possiveis novos clientes. Esta abordagem não apresentou performance satisfatória. Este é o motivo do uso da amostra reduzida."
   ]
  },
  {
   "cell_type": "code",
   "execution_count": 35,
   "metadata": {},
   "outputs": [
    {
     "name": "stdout",
     "output_type": "stream",
     "text": [
      "Quantidade de novos clientes para o Portfolio 1:  981\n",
      "Quantidade de novos clientes para o Portfolio 2:  17\n",
      "Quantidade de novos clientes para o Portfolio 3:  2\n"
     ]
    }
   ],
   "source": [
    "novos_clientes_p1 = []\n",
    "novos_clientes_p2 = []\n",
    "novos_clientes_p3 = []\n",
    "port = 0\n",
    "\n",
    "for indice, cliente in mercado_sem_portifolio.head(1000).iterrows():\n",
    "    # Identifica o similar\n",
    "    similar = euclidiana(cliente)\n",
    "    id = similar['id']\n",
    "    distancia = similar['distancia']\n",
    "    \n",
    "    # Localiza os dados do similar nos Portfolios atuais\n",
    "    retorno = mercado_p123.loc[id]\n",
    "    \n",
    "    # Extrai dos dados o portfolio do similar\n",
    "    port = retorno['portfolio']\n",
    "    \n",
    "    # Foi preciso tratar o retorno pois existem IDs duplicados \n",
    "    # que aparecem em mais de um portfolio. Neste caso, pego o\n",
    "    # primeiro retorno.\n",
    "    if isinstance(port, pd.Series):\n",
    "        port = port[:1].values[0]\n",
    "    \n",
    "    # Monta as listas dos novos clientes individualizadas por portfolio\n",
    "    if port == 1:\n",
    "        novos_clientes_p1.append(indice)\n",
    "    elif port == 2:\n",
    "        novos_clientes_p2.append(indice)\n",
    "    elif port == 3:\n",
    "        novos_clientes_p3.append(indice)\n",
    "\n",
    "print('Quantidade de novos clientes para o Portfolio 1: ', len(novos_clientes_p1))\n",
    "print('Quantidade de novos clientes para o Portfolio 2: ', len(novos_clientes_p2))\n",
    "print('Quantidade de novos clientes para o Portfolio 3: ', len(novos_clientes_p3))"
   ]
  },
  {
   "cell_type": "markdown",
   "metadata": {},
   "source": [
    "### Abordagem 2: avaliação de algoritmos"
   ]
  },
  {
   "cell_type": "markdown",
   "metadata": {},
   "source": [
    "#### Preparando os dados de treino e teste."
   ]
  },
  {
   "cell_type": "code",
   "execution_count": 36,
   "metadata": {},
   "outputs": [],
   "source": [
    "y_train = mercado_p123['portfolio']\n",
    "x_train = mercado_p123.copy()\n",
    "x_train.drop(['portfolio'],axis=1, inplace=True)\n",
    "x_train, x_test, y_train, y_test = train_test_split(x_train,y_train,test_size = 0.2,random_state=1)"
   ]
  },
  {
   "cell_type": "markdown",
   "metadata": {},
   "source": [
    "## Treinando os modelos"
   ]
  },
  {
   "cell_type": "markdown",
   "metadata": {},
   "source": [
    "#### LogisticRegression"
   ]
  },
  {
   "cell_type": "code",
   "execution_count": 37,
   "metadata": {},
   "outputs": [
    {
     "name": "stdout",
     "output_type": "stream",
     "text": [
      "Logistic Regression Score :  0.4064748201438849\n"
     ]
    }
   ],
   "source": [
    "lr = LogisticRegression()\n",
    "lr.fit(x_train,y_train)#fit or train data\n",
    "print('Logistic Regression Score : ',lr.score(x_test,y_test))"
   ]
  },
  {
   "cell_type": "markdown",
   "metadata": {},
   "source": [
    "#### KNeighborsClassifier"
   ]
  },
  {
   "cell_type": "code",
   "execution_count": 38,
   "metadata": {},
   "outputs": [
    {
     "name": "stdout",
     "output_type": "stream",
     "text": [
      "K-Nearest Neighbors Score :  0.802158273381295\n"
     ]
    }
   ],
   "source": [
    "knn = KNeighborsClassifier(n_neighbors = 220)\n",
    "knn.fit(x_train,y_train)\n",
    "print('K-Nearest Neighbors Score : ',knn.score(x_test,y_test))"
   ]
  },
  {
   "cell_type": "markdown",
   "metadata": {},
   "source": [
    "#### SVC"
   ]
  },
  {
   "cell_type": "code",
   "execution_count": 39,
   "metadata": {},
   "outputs": [
    {
     "name": "stdout",
     "output_type": "stream",
     "text": [
      "Super Vector Machine Score :  0.6906474820143885\n"
     ]
    }
   ],
   "source": [
    "svm = SVC(random_state = 1)\n",
    "svm.fit(x_train,y_train)\n",
    "print('Super Vector Machine Score : ',svm.score(x_test,y_test))"
   ]
  },
  {
   "cell_type": "markdown",
   "metadata": {},
   "source": [
    "#### GaussianNB"
   ]
  },
  {
   "cell_type": "code",
   "execution_count": 40,
   "metadata": {},
   "outputs": [
    {
     "name": "stdout",
     "output_type": "stream",
     "text": [
      "Naive Bayes Score :  0.6007194244604317\n"
     ]
    }
   ],
   "source": [
    "nb = GaussianNB()\n",
    "nb.fit(x_train,y_train)\n",
    "print('Naive Bayes Score : ',nb.score(x_test,y_test))"
   ]
  },
  {
   "cell_type": "markdown",
   "metadata": {},
   "source": [
    "#### DecisionTreeClassifier"
   ]
  },
  {
   "cell_type": "code",
   "execution_count": 41,
   "metadata": {},
   "outputs": [
    {
     "name": "stdout",
     "output_type": "stream",
     "text": [
      "Decision Tree Score :  0.7482014388489209\n"
     ]
    }
   ],
   "source": [
    "dt = DecisionTreeClassifier()\n",
    "dt.fit(x_train,y_train)\n",
    "print('Decision Tree Score : ',dt.score(x_test,y_test))"
   ]
  },
  {
   "cell_type": "markdown",
   "metadata": {},
   "source": [
    "#### RandomForestClassifier"
   ]
  },
  {
   "cell_type": "code",
   "execution_count": 42,
   "metadata": {},
   "outputs": [
    {
     "name": "stdout",
     "output_type": "stream",
     "text": [
      "Random Forest Score :  0.8273381294964028\n"
     ]
    }
   ],
   "source": [
    "rf = RandomForestClassifier(n_estimators = 2,random_state = 10)\n",
    "rf.fit(x_train,y_train)\n",
    "print('Random Forest Score : ',rf.score(x_test,y_test))"
   ]
  },
  {
   "cell_type": "markdown",
   "metadata": {},
   "source": [
    "## Avaliação de Performance"
   ]
  },
  {
   "cell_type": "markdown",
   "metadata": {},
   "source": [
    "Após analise, o modelo que apresentou melhor performance é o RandomForestClassifier que atingiu score de 0.8273. O Sistema de Recomendações também é indicado para este tipo de serviço. Porém, ele não apresentou performance satisfatória. De qualquer forma, o seu resultado também será apresentado para fins de comparação com o RandomForestClassifier."
   ]
  },
  {
   "cell_type": "markdown",
   "metadata": {},
   "source": [
    "#### Predição com RandomForestClassifier"
   ]
  },
  {
   "cell_type": "code",
   "execution_count": 49,
   "metadata": {},
   "outputs": [],
   "source": [
    "rf_prediction = rf.predict(mercado_sem_portifolio.head(1000))"
   ]
  },
  {
   "cell_type": "markdown",
   "metadata": {},
   "source": [
    "#### Resultados obtidos para uma amostra de 1.000"
   ]
  },
  {
   "cell_type": "code",
   "execution_count": 59,
   "metadata": {},
   "outputs": [
    {
     "name": "stdout",
     "output_type": "stream",
     "text": [
      ">>> RandomForestClassifier\n",
      "Novos clientes para o Portfolio 1 : 995\n",
      "Novos clientes para o Portfolio 2 : 4\n",
      "Novos clientes para o Portfolio 3 : 1\n",
      "\n",
      ">>> Algoritmo de Recomendação\n",
      "Novos clientes para o Portfolio 1 : 981\n",
      "Novos clientes para o Portfolio 2 : 17\n",
      "Novos clientes para o Portfolio 3 : 2\n"
     ]
    }
   ],
   "source": [
    "print('>>> RandomForestClassifier')\n",
    "unique, counts = np.unique(rf_prediction, return_counts=True)\n",
    "for x in range(len(unique)):\n",
    "    print('Novos clientes para o Portfolio',unique[x], ':', counts[x])\n",
    "\n",
    "print('\\n>>> Algoritmo de Recomendação')\n",
    "print('Novos clientes para o Portfolio 1 :', len(novos_clientes_p1))\n",
    "print('Novos clientes para o Portfolio 2 :', len(novos_clientes_p2))\n",
    "print('Novos clientes para o Portfolio 3 :', len(novos_clientes_p3))"
   ]
  },
  {
   "cell_type": "code",
   "execution_count": null,
   "metadata": {},
   "outputs": [],
   "source": []
  }
 ],
 "metadata": {
  "kernelspec": {
   "display_name": "Python 3",
   "language": "python",
   "name": "python3"
  },
  "language_info": {
   "codemirror_mode": {
    "name": "ipython",
    "version": 3
   },
   "file_extension": ".py",
   "mimetype": "text/x-python",
   "name": "python",
   "nbconvert_exporter": "python",
   "pygments_lexer": "ipython3",
   "version": "3.7.3"
  }
 },
 "nbformat": 4,
 "nbformat_minor": 2
}
